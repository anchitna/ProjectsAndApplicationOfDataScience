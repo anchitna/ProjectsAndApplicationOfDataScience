{
  "cells": [
    {
      "cell_type": "markdown",
      "id": "b3d08535",
      "metadata": {
        "id": "b3d08535"
      },
      "source": [
        "<img src=\"https://raw.githubusercontent.com/afo/data-x-plaksha/master/imgsource/dx_logo.png\" align=\"left\"></img><br><br><br><br>"
      ]
    },
    {
      "cell_type": "markdown",
      "id": "4c408082",
      "metadata": {
        "id": "4c408082"
      },
      "source": [
        "## Plaksha SQL assignment"
      ]
    },
    {
      "cell_type": "markdown",
      "id": "7f7d4113-c3a9-47b2-b7df-b844d49abd22",
      "metadata": {
        "id": "7f7d4113-c3a9-47b2-b7df-b844d49abd22"
      },
      "source": [
        "---\n",
        "\n",
        "## Submission details:\n",
        "\n",
        "Please submit this as a Jupyter Notebook and a PDF of your results (both should show output). Also push your solutions to Github.\n",
        "\n",
        "For the submision create a local database with `sqlite3` or `sqlalchemy` in a Jupyter notebook and make the queries either with a cursor object (and then print the results) or by using pandas `pd.read_sql_query()`."
      ]
    },
    {
      "cell_type": "markdown",
      "id": "0c551f03-7eff-43e2-89a7-a53b54098223",
      "metadata": {
        "id": "0c551f03-7eff-43e2-89a7-a53b54098223"
      },
      "source": [
        "___\n",
        "\n",
        "When completing this homework you can experiment with SQL commands by utilizing this great online editor:\n",
        "\n",
        "https://www.w3schools.com/sql/trysql.asp?filename=trysql_select_all\n",
        "\n",
        "There are already some tables in the online Database, namely:\n",
        "\n",
        "`Categories, Employees, OrderDetails, Orders, Products, Shippers, and Suppliers.`\n",
        "\n",
        "If you want you can drop them by running  `DROP TABLE [table-name];` (or just keep them)."
      ]
    },
    {
      "cell_type": "markdown",
      "id": "dccc820f-21b0-4b2c-9ca8-9cb9eab76023",
      "metadata": {
        "id": "dccc820f-21b0-4b2c-9ca8-9cb9eab76023"
      },
      "source": [
        "___\n",
        "\n",
        "## Exercises:\n",
        "\n",
        "First create a table called students. It has the columns: 'student_id', 'name', 'major', 'gpa' and 'enrollment_date' We will use a new form of `CREATE TABLE` expression to produce this table.\n",
        "\n",
        "Note that you can improve this and are welcome to do so -- e.g. by specifying for example a PRIMARY KEY and a FOREIGN KEY in Q2 :)\n",
        "\n",
        "    CREATE TABLE students AS\n",
        "        SELECT 1 AS student_id, \"John\" AS name, \"Computer Science\" AS major, 3.5 AS gpa, \"01-01-2022\" AS enrollment_date UNION\n",
        "        SELECT 2, \"Jane\", \"Physics\", 3.8, \"01-02-2022\" UNION\n",
        "        SELECT 3, \"Bob\", \"Engineering\", 3.0, \"01-03-2022\" UNION\n",
        "        SELECT 4, \"Samantha\", \"Physics\", 3.9, \"01-04-2022\" UNION\n",
        "        SELECT 5, \"James\", \"Engineering\", 3.7, \"01-05-2022\" UNION\n",
        "        SELECT 6, \"Emily\", \"Computer Science\", 3.6, \"01-06-2022\" UNION\n",
        "        SELECT 7, \"Michael\", \"Computer Science\", 3.2, \"01-07-2022\" UNION\n",
        "        SELECT 8, \"Jessica\", \"Engineering\", 3.8, \"01-08-2022\" UNION\n",
        "        SELECT 9, \"Jacob\", \"Physics\", 3.4, \"01-09-2022\" UNION\n",
        "        SELECT 10, \"Ashley\", \"Physics\", 3.9, \"01-10-2022\";\n",
        "\n",
        "\n",
        "## Q1 Simple SELECTS (on the students table)\n",
        "1. SELECT all records in the table.\n",
        "2. SELECT students whose major is \"Computer Science\".\n",
        "3. SELECT all unique majors (use SELECT DISTINCT) and order them by name, descending order (i.e. Physics first).\n",
        "4. SELECT all students that have an 'e' in their name and order them by gpa in ascending order.\n",
        "\n",
        "\n",
        "## Q2 Joins\n",
        "\n",
        "Create a new table called courses, which indicates the courses taken by the students. \n",
        "\n",
        "Create the table by running:\n",
        "\t\n",
        "    CREATE TABLE courses AS\n",
        "        SELECT 1 AS course_id, \"Python programming\" AS course_name, 1 AS student_id, \"A\" AS grade UNION\n",
        "        SELECT 2, \"Data Structures\", 2, \"B\" UNION\n",
        "        SELECT 3, \"Database Systems\", 3, \"B\" UNION\n",
        "        SELECT 1, \"Python programming\", 4, \"A\" UNION\n",
        "        SELECT 4, \"Quantum Mechanics\", 5, \"C\" UNION\n",
        "        SELECT 1, \"Python programming\", 6, \"F\" UNION\n",
        "        SELECT 2, \"Data Structures\", 7, \"C\" UNION\n",
        "        SELECT 3, \"Database Systems\", 8, \"A\" UNION\n",
        "        SELECT 4, \"Quantum Mechanics\", 9, \"A\" UNION\n",
        "        SELECT 2, \"Data Structures\", 10, \"F\";\n",
        "\n",
        "1. COUNT the number of unique courses.\n",
        "2. JOIN the tables students and courses and COUNT the number of students with the major Computer Science taking the course Python programming.\n",
        "3. JOIN the tables students and courses and select the students who have grades higher than \"C\", only show their name, major, gpa, course_name and grade.\n",
        "\n",
        "\n",
        "## Q3 Aggregate functions, numerical logic and grouping\n",
        "\n",
        "1. Find the average gpa of all students.\n",
        "2. SELECT the student with the maximum gpa, display only their student_id, major and gpa\n",
        "3. SELECT the student with the minimum gpa, display only their student_id, major and gpa\n",
        "4. SELECT the students with a gpa greater than 3.6 in the majors of \"Physics\" and \"Engineering\", display only their student_id, major and gpa\n",
        "5. Group the students by their major and retrieve the average grade of each major.\n",
        "6. SELECT the top 2 students with the highest GPA in each major and order the results by major in ascending order, then by GPA in descending order"
      ]
    },
    {
      "cell_type": "markdown",
      "id": "3ab84519",
      "metadata": {
        "id": "3ab84519"
      },
      "source": [
        "# Your solution"
      ]
    },
    {
      "cell_type": "code",
      "execution_count": 27,
      "id": "5ElaEmSH1hK_",
      "metadata": {
        "id": "5ElaEmSH1hK_"
      },
      "outputs": [],
      "source": [
        "import sqlite3\n",
        "import pandas as pd"
      ]
    },
    {
      "cell_type": "code",
      "execution_count": 28,
      "id": "fdeZapqz1scz",
      "metadata": {
        "id": "fdeZapqz1scz"
      },
      "outputs": [],
      "source": [
        "connection = sqlite3.connect('assignment.db')\n",
        "cursor = connection.cursor()"
      ]
    },
    {
      "attachments": {},
      "cell_type": "markdown",
      "id": "f44012e1",
      "metadata": {},
      "source": [
        "### Question 1:"
      ]
    },
    {
      "cell_type": "code",
      "execution_count": 29,
      "id": "c7cff114",
      "metadata": {
        "colab": {
          "base_uri": "https://localhost:8080/",
          "height": 204
        },
        "id": "c7cff114",
        "outputId": "35a6dafb-595f-41fe-bec9-c531f367f59a"
      },
      "outputs": [],
      "source": [
        "tableCommand = '''CREATE TABLE students AS\n",
        "    SELECT 1 AS student_id, \"John\" AS name, \"Computer Science\" AS major, 3.5 AS gpa, \"01-01-2022\" AS enrollment_date UNION\n",
        "    SELECT 2, \"Jane\", \"Physics\", 3.8, \"01-02-2022\" UNION\n",
        "    SELECT 3, \"Bob\", \"Engineering\", 3.0, \"01-03-2022\" UNION\n",
        "    SELECT 4, \"Samantha\", \"Physics\", 3.9, \"01-04-2022\" UNION\n",
        "    SELECT 5, \"James\", \"Engineering\", 3.7, \"01-05-2022\" UNION\n",
        "    SELECT 6, \"Emily\", \"Computer Science\", 3.6, \"01-06-2022\" UNION\n",
        "    SELECT 7, \"Michael\", \"Computer Science\", 3.2, \"01-07-2022\" UNION\n",
        "    SELECT 8, \"Jessica\", \"Engineering\", 3.8, \"01-08-2022\" UNION\n",
        "    SELECT 9, \"Jacob\", \"Physics\", 3.4, \"01-09-2022\" UNION\n",
        "    SELECT 10, \"Ashley\", \"Physics\", 3.9, \"01-10-2022\";\n",
        "    '''"
      ]
    },
    {
      "cell_type": "code",
      "execution_count": 30,
      "id": "8c696299",
      "metadata": {},
      "outputs": [
        {
          "data": {
            "text/plain": [
              "<sqlite3.Cursor at 0x1ae1226c650>"
            ]
          },
          "execution_count": 30,
          "metadata": {},
          "output_type": "execute_result"
        }
      ],
      "source": [
        "cursor.execute(tableCommand)"
      ]
    },
    {
      "attachments": {},
      "cell_type": "markdown",
      "id": "e3f49a1f",
      "metadata": {},
      "source": [
        "#### Part 1:"
      ]
    },
    {
      "cell_type": "code",
      "execution_count": 31,
      "id": "DihnPmE21er8",
      "metadata": {
        "colab": {
          "base_uri": "https://localhost:8080/",
          "height": 363
        },
        "id": "DihnPmE21er8",
        "outputId": "9b1eb4df-aa62-4a17-81e3-219765b846a7"
      },
      "outputs": [],
      "source": [
        "selectAll = 'SELECT* FROM students'\n",
        "cursor.execute(selectAll)\n",
        "execute = pd.read_sql_query(selectAll, connection)"
      ]
    },
    {
      "cell_type": "code",
      "execution_count": 32,
      "id": "ac7e1b08",
      "metadata": {},
      "outputs": [
        {
          "data": {
            "text/html": [
              "<div>\n",
              "<style scoped>\n",
              "    .dataframe tbody tr th:only-of-type {\n",
              "        vertical-align: middle;\n",
              "    }\n",
              "\n",
              "    .dataframe tbody tr th {\n",
              "        vertical-align: top;\n",
              "    }\n",
              "\n",
              "    .dataframe thead th {\n",
              "        text-align: right;\n",
              "    }\n",
              "</style>\n",
              "<table border=\"1\" class=\"dataframe\">\n",
              "  <thead>\n",
              "    <tr style=\"text-align: right;\">\n",
              "      <th></th>\n",
              "      <th>student_id</th>\n",
              "      <th>name</th>\n",
              "      <th>major</th>\n",
              "      <th>gpa</th>\n",
              "      <th>enrollment_date</th>\n",
              "    </tr>\n",
              "  </thead>\n",
              "  <tbody>\n",
              "    <tr>\n",
              "      <th>0</th>\n",
              "      <td>1</td>\n",
              "      <td>John</td>\n",
              "      <td>Computer Science</td>\n",
              "      <td>3.5</td>\n",
              "      <td>01-01-2022</td>\n",
              "    </tr>\n",
              "    <tr>\n",
              "      <th>1</th>\n",
              "      <td>2</td>\n",
              "      <td>Jane</td>\n",
              "      <td>Physics</td>\n",
              "      <td>3.8</td>\n",
              "      <td>01-02-2022</td>\n",
              "    </tr>\n",
              "    <tr>\n",
              "      <th>2</th>\n",
              "      <td>3</td>\n",
              "      <td>Bob</td>\n",
              "      <td>Engineering</td>\n",
              "      <td>3.0</td>\n",
              "      <td>01-03-2022</td>\n",
              "    </tr>\n",
              "    <tr>\n",
              "      <th>3</th>\n",
              "      <td>4</td>\n",
              "      <td>Samantha</td>\n",
              "      <td>Physics</td>\n",
              "      <td>3.9</td>\n",
              "      <td>01-04-2022</td>\n",
              "    </tr>\n",
              "    <tr>\n",
              "      <th>4</th>\n",
              "      <td>5</td>\n",
              "      <td>James</td>\n",
              "      <td>Engineering</td>\n",
              "      <td>3.7</td>\n",
              "      <td>01-05-2022</td>\n",
              "    </tr>\n",
              "    <tr>\n",
              "      <th>5</th>\n",
              "      <td>6</td>\n",
              "      <td>Emily</td>\n",
              "      <td>Computer Science</td>\n",
              "      <td>3.6</td>\n",
              "      <td>01-06-2022</td>\n",
              "    </tr>\n",
              "    <tr>\n",
              "      <th>6</th>\n",
              "      <td>7</td>\n",
              "      <td>Michael</td>\n",
              "      <td>Computer Science</td>\n",
              "      <td>3.2</td>\n",
              "      <td>01-07-2022</td>\n",
              "    </tr>\n",
              "    <tr>\n",
              "      <th>7</th>\n",
              "      <td>8</td>\n",
              "      <td>Jessica</td>\n",
              "      <td>Engineering</td>\n",
              "      <td>3.8</td>\n",
              "      <td>01-08-2022</td>\n",
              "    </tr>\n",
              "    <tr>\n",
              "      <th>8</th>\n",
              "      <td>9</td>\n",
              "      <td>Jacob</td>\n",
              "      <td>Physics</td>\n",
              "      <td>3.4</td>\n",
              "      <td>01-09-2022</td>\n",
              "    </tr>\n",
              "    <tr>\n",
              "      <th>9</th>\n",
              "      <td>10</td>\n",
              "      <td>Ashley</td>\n",
              "      <td>Physics</td>\n",
              "      <td>3.9</td>\n",
              "      <td>01-10-2022</td>\n",
              "    </tr>\n",
              "  </tbody>\n",
              "</table>\n",
              "</div>"
            ],
            "text/plain": [
              "   student_id      name             major  gpa enrollment_date\n",
              "0           1      John  Computer Science  3.5      01-01-2022\n",
              "1           2      Jane           Physics  3.8      01-02-2022\n",
              "2           3       Bob       Engineering  3.0      01-03-2022\n",
              "3           4  Samantha           Physics  3.9      01-04-2022\n",
              "4           5     James       Engineering  3.7      01-05-2022\n",
              "5           6     Emily  Computer Science  3.6      01-06-2022\n",
              "6           7   Michael  Computer Science  3.2      01-07-2022\n",
              "7           8   Jessica       Engineering  3.8      01-08-2022\n",
              "8           9     Jacob           Physics  3.4      01-09-2022\n",
              "9          10    Ashley           Physics  3.9      01-10-2022"
            ]
          },
          "execution_count": 32,
          "metadata": {},
          "output_type": "execute_result"
        }
      ],
      "source": [
        "execute"
      ]
    },
    {
      "attachments": {},
      "cell_type": "markdown",
      "id": "c2dabb67",
      "metadata": {},
      "source": [
        "#### Part 2:"
      ]
    },
    {
      "cell_type": "code",
      "execution_count": 33,
      "id": "EF279kjB25nm",
      "metadata": {
        "colab": {
          "base_uri": "https://localhost:8080/",
          "height": 143
        },
        "id": "EF279kjB25nm",
        "outputId": "44a96b6b-ac2a-434c-ebde-86d6c972d376"
      },
      "outputs": [],
      "source": [
        "whereClause = \"SELECT* FROM students WHERE major = 'Computer Science';\"\n",
        "cursor.execute(whereClause)\n",
        "execute = pd.read_sql_query(whereClause, connection)"
      ]
    },
    {
      "cell_type": "code",
      "execution_count": 34,
      "id": "b6af27ae",
      "metadata": {},
      "outputs": [
        {
          "data": {
            "text/html": [
              "<div>\n",
              "<style scoped>\n",
              "    .dataframe tbody tr th:only-of-type {\n",
              "        vertical-align: middle;\n",
              "    }\n",
              "\n",
              "    .dataframe tbody tr th {\n",
              "        vertical-align: top;\n",
              "    }\n",
              "\n",
              "    .dataframe thead th {\n",
              "        text-align: right;\n",
              "    }\n",
              "</style>\n",
              "<table border=\"1\" class=\"dataframe\">\n",
              "  <thead>\n",
              "    <tr style=\"text-align: right;\">\n",
              "      <th></th>\n",
              "      <th>student_id</th>\n",
              "      <th>name</th>\n",
              "      <th>major</th>\n",
              "      <th>gpa</th>\n",
              "      <th>enrollment_date</th>\n",
              "    </tr>\n",
              "  </thead>\n",
              "  <tbody>\n",
              "    <tr>\n",
              "      <th>0</th>\n",
              "      <td>1</td>\n",
              "      <td>John</td>\n",
              "      <td>Computer Science</td>\n",
              "      <td>3.5</td>\n",
              "      <td>01-01-2022</td>\n",
              "    </tr>\n",
              "    <tr>\n",
              "      <th>1</th>\n",
              "      <td>6</td>\n",
              "      <td>Emily</td>\n",
              "      <td>Computer Science</td>\n",
              "      <td>3.6</td>\n",
              "      <td>01-06-2022</td>\n",
              "    </tr>\n",
              "    <tr>\n",
              "      <th>2</th>\n",
              "      <td>7</td>\n",
              "      <td>Michael</td>\n",
              "      <td>Computer Science</td>\n",
              "      <td>3.2</td>\n",
              "      <td>01-07-2022</td>\n",
              "    </tr>\n",
              "  </tbody>\n",
              "</table>\n",
              "</div>"
            ],
            "text/plain": [
              "   student_id     name             major  gpa enrollment_date\n",
              "0           1     John  Computer Science  3.5      01-01-2022\n",
              "1           6    Emily  Computer Science  3.6      01-06-2022\n",
              "2           7  Michael  Computer Science  3.2      01-07-2022"
            ]
          },
          "execution_count": 34,
          "metadata": {},
          "output_type": "execute_result"
        }
      ],
      "source": [
        "execute"
      ]
    },
    {
      "attachments": {},
      "cell_type": "markdown",
      "id": "34aa1462",
      "metadata": {},
      "source": [
        "#### Part 3:"
      ]
    },
    {
      "cell_type": "code",
      "execution_count": 35,
      "id": "4ab2RIWa3o78",
      "metadata": {
        "colab": {
          "base_uri": "https://localhost:8080/",
          "height": 143
        },
        "id": "4ab2RIWa3o78",
        "outputId": "c3cf909a-b3a7-4630-a500-ee1972ebf081"
      },
      "outputs": [],
      "source": [
        "orderBy = \"\"\"SELECT DISTINCT major FROM students \n",
        "ORDER BY major DESC;\"\"\"\n",
        "cursor.execute(orderBy)\n",
        "execute = pd.read_sql_query(orderBy, connection)"
      ]
    },
    {
      "cell_type": "code",
      "execution_count": 36,
      "id": "b04231fb",
      "metadata": {},
      "outputs": [
        {
          "data": {
            "text/html": [
              "<div>\n",
              "<style scoped>\n",
              "    .dataframe tbody tr th:only-of-type {\n",
              "        vertical-align: middle;\n",
              "    }\n",
              "\n",
              "    .dataframe tbody tr th {\n",
              "        vertical-align: top;\n",
              "    }\n",
              "\n",
              "    .dataframe thead th {\n",
              "        text-align: right;\n",
              "    }\n",
              "</style>\n",
              "<table border=\"1\" class=\"dataframe\">\n",
              "  <thead>\n",
              "    <tr style=\"text-align: right;\">\n",
              "      <th></th>\n",
              "      <th>major</th>\n",
              "    </tr>\n",
              "  </thead>\n",
              "  <tbody>\n",
              "    <tr>\n",
              "      <th>0</th>\n",
              "      <td>Physics</td>\n",
              "    </tr>\n",
              "    <tr>\n",
              "      <th>1</th>\n",
              "      <td>Engineering</td>\n",
              "    </tr>\n",
              "    <tr>\n",
              "      <th>2</th>\n",
              "      <td>Computer Science</td>\n",
              "    </tr>\n",
              "  </tbody>\n",
              "</table>\n",
              "</div>"
            ],
            "text/plain": [
              "              major\n",
              "0           Physics\n",
              "1       Engineering\n",
              "2  Computer Science"
            ]
          },
          "execution_count": 36,
          "metadata": {},
          "output_type": "execute_result"
        }
      ],
      "source": [
        "execute"
      ]
    },
    {
      "attachments": {},
      "cell_type": "markdown",
      "id": "aac955ce",
      "metadata": {},
      "source": [
        "#### Part 4:"
      ]
    },
    {
      "cell_type": "code",
      "execution_count": 37,
      "id": "X1-hJ2TL5WHB",
      "metadata": {
        "colab": {
          "base_uri": "https://localhost:8080/",
          "height": 238
        },
        "id": "X1-hJ2TL5WHB",
        "outputId": "eb283a0a-bb17-4453-9fb1-7e1ad1dd33b5"
      },
      "outputs": [],
      "source": [
        "likeCommand = \"\"\"SELECT * FROM students WHERE name LIKE '%e%' \n",
        "ORDER BY gpa ASC;\"\"\"\n",
        "cursor.execute(likeCommand)\n",
        "execute = pd.read_sql_query(likeCommand, connection)"
      ]
    },
    {
      "cell_type": "code",
      "execution_count": 38,
      "id": "35428f3f",
      "metadata": {},
      "outputs": [
        {
          "data": {
            "text/html": [
              "<div>\n",
              "<style scoped>\n",
              "    .dataframe tbody tr th:only-of-type {\n",
              "        vertical-align: middle;\n",
              "    }\n",
              "\n",
              "    .dataframe tbody tr th {\n",
              "        vertical-align: top;\n",
              "    }\n",
              "\n",
              "    .dataframe thead th {\n",
              "        text-align: right;\n",
              "    }\n",
              "</style>\n",
              "<table border=\"1\" class=\"dataframe\">\n",
              "  <thead>\n",
              "    <tr style=\"text-align: right;\">\n",
              "      <th></th>\n",
              "      <th>student_id</th>\n",
              "      <th>name</th>\n",
              "      <th>major</th>\n",
              "      <th>gpa</th>\n",
              "      <th>enrollment_date</th>\n",
              "    </tr>\n",
              "  </thead>\n",
              "  <tbody>\n",
              "    <tr>\n",
              "      <th>0</th>\n",
              "      <td>7</td>\n",
              "      <td>Michael</td>\n",
              "      <td>Computer Science</td>\n",
              "      <td>3.2</td>\n",
              "      <td>01-07-2022</td>\n",
              "    </tr>\n",
              "    <tr>\n",
              "      <th>1</th>\n",
              "      <td>6</td>\n",
              "      <td>Emily</td>\n",
              "      <td>Computer Science</td>\n",
              "      <td>3.6</td>\n",
              "      <td>01-06-2022</td>\n",
              "    </tr>\n",
              "    <tr>\n",
              "      <th>2</th>\n",
              "      <td>5</td>\n",
              "      <td>James</td>\n",
              "      <td>Engineering</td>\n",
              "      <td>3.7</td>\n",
              "      <td>01-05-2022</td>\n",
              "    </tr>\n",
              "    <tr>\n",
              "      <th>3</th>\n",
              "      <td>2</td>\n",
              "      <td>Jane</td>\n",
              "      <td>Physics</td>\n",
              "      <td>3.8</td>\n",
              "      <td>01-02-2022</td>\n",
              "    </tr>\n",
              "    <tr>\n",
              "      <th>4</th>\n",
              "      <td>8</td>\n",
              "      <td>Jessica</td>\n",
              "      <td>Engineering</td>\n",
              "      <td>3.8</td>\n",
              "      <td>01-08-2022</td>\n",
              "    </tr>\n",
              "    <tr>\n",
              "      <th>5</th>\n",
              "      <td>10</td>\n",
              "      <td>Ashley</td>\n",
              "      <td>Physics</td>\n",
              "      <td>3.9</td>\n",
              "      <td>01-10-2022</td>\n",
              "    </tr>\n",
              "  </tbody>\n",
              "</table>\n",
              "</div>"
            ],
            "text/plain": [
              "   student_id     name             major  gpa enrollment_date\n",
              "0           7  Michael  Computer Science  3.2      01-07-2022\n",
              "1           6    Emily  Computer Science  3.6      01-06-2022\n",
              "2           5    James       Engineering  3.7      01-05-2022\n",
              "3           2     Jane           Physics  3.8      01-02-2022\n",
              "4           8  Jessica       Engineering  3.8      01-08-2022\n",
              "5          10   Ashley           Physics  3.9      01-10-2022"
            ]
          },
          "execution_count": 38,
          "metadata": {},
          "output_type": "execute_result"
        }
      ],
      "source": [
        "execute"
      ]
    },
    {
      "attachments": {},
      "cell_type": "markdown",
      "id": "536158da",
      "metadata": {},
      "source": [
        "### Question 2:"
      ]
    },
    {
      "cell_type": "code",
      "execution_count": 39,
      "id": "y7p4MizH63We",
      "metadata": {
        "colab": {
          "base_uri": "https://localhost:8080/",
          "height": 204
        },
        "id": "y7p4MizH63We",
        "outputId": "71867b52-3d2c-4757-c042-810fccd56f8b"
      },
      "outputs": [],
      "source": [
        "createTable = '''CREATE TABLE courses AS\n",
        "    SELECT 1 AS course_id, \"Python programming\" AS course_name, 1 AS student_id, \"A\" AS grade UNION\n",
        "    SELECT 2, \"Data Structures\", 2, \"B\" UNION\n",
        "    SELECT 3, \"Database Systems\", 3, \"B\" UNION\n",
        "    SELECT 1, \"Python programming\", 4, \"A\" UNION\n",
        "    SELECT 4, \"Quantum Mechanics\", 5, \"C\" UNION\n",
        "    SELECT 1, \"Python programming\", 6, \"F\" UNION\n",
        "    SELECT 2, \"Data Structures\", 7, \"C\" UNION\n",
        "    SELECT 3, \"Database Systems\", 8, \"A\" UNION\n",
        "    SELECT 4, \"Quantum Mechanics\", 9, \"A\" UNION\n",
        "    SELECT 2, \"Data Structures\", 10, \"F\"; '''"
      ]
    },
    {
      "cell_type": "code",
      "execution_count": 40,
      "id": "1a0641c6",
      "metadata": {},
      "outputs": [
        {
          "data": {
            "text/plain": [
              "<sqlite3.Cursor at 0x1ae1226c650>"
            ]
          },
          "execution_count": 40,
          "metadata": {},
          "output_type": "execute_result"
        }
      ],
      "source": [
        "cursor.execute(createTable)"
      ]
    },
    {
      "attachments": {},
      "cell_type": "markdown",
      "id": "29dd6eeb",
      "metadata": {},
      "source": [
        "#### Part 1:"
      ]
    },
    {
      "cell_type": "code",
      "execution_count": 41,
      "id": "iS0qtiLK7X5v",
      "metadata": {
        "colab": {
          "base_uri": "https://localhost:8080/",
          "height": 81
        },
        "id": "iS0qtiLK7X5v",
        "outputId": "a5ef378a-44a5-4a8b-9597-60e194c146e4"
      },
      "outputs": [],
      "source": [
        "count = \"SELECT COUNT(DISTINCT course_name) FROM courses;\"\n",
        "cursor.execute(count)\n",
        "execute = pd.read_sql_query(count, connection)"
      ]
    },
    {
      "cell_type": "code",
      "execution_count": 42,
      "id": "1d267c94",
      "metadata": {},
      "outputs": [
        {
          "data": {
            "text/html": [
              "<div>\n",
              "<style scoped>\n",
              "    .dataframe tbody tr th:only-of-type {\n",
              "        vertical-align: middle;\n",
              "    }\n",
              "\n",
              "    .dataframe tbody tr th {\n",
              "        vertical-align: top;\n",
              "    }\n",
              "\n",
              "    .dataframe thead th {\n",
              "        text-align: right;\n",
              "    }\n",
              "</style>\n",
              "<table border=\"1\" class=\"dataframe\">\n",
              "  <thead>\n",
              "    <tr style=\"text-align: right;\">\n",
              "      <th></th>\n",
              "      <th>COUNT(DISTINCT course_name)</th>\n",
              "    </tr>\n",
              "  </thead>\n",
              "  <tbody>\n",
              "    <tr>\n",
              "      <th>0</th>\n",
              "      <td>4</td>\n",
              "    </tr>\n",
              "  </tbody>\n",
              "</table>\n",
              "</div>"
            ],
            "text/plain": [
              "   COUNT(DISTINCT course_name)\n",
              "0                            4"
            ]
          },
          "execution_count": 42,
          "metadata": {},
          "output_type": "execute_result"
        }
      ],
      "source": [
        "execute"
      ]
    },
    {
      "attachments": {},
      "cell_type": "markdown",
      "id": "75aff7cf",
      "metadata": {},
      "source": [
        "#### Part 2:"
      ]
    },
    {
      "cell_type": "code",
      "execution_count": 43,
      "id": "KDEGNnzg9RtY",
      "metadata": {
        "colab": {
          "base_uri": "https://localhost:8080/",
          "height": 81
        },
        "id": "KDEGNnzg9RtY",
        "outputId": "65d303d0-2e60-4b9b-a9d8-9936cee7963c"
      },
      "outputs": [],
      "source": [
        "leftJoin = \"\"\"SELECT COUNT(*) FROM students LEFT JOIN courses\n",
        "ON students.student_id = courses.student_id\n",
        "WHERE students.major = 'Computer Science' AND courses.course_name = 'Python programming';\n",
        "\"\"\"\n",
        "cursor.execute(leftJoin)\n",
        "execute = pd.read_sql_query(leftJoin, connection)"
      ]
    },
    {
      "cell_type": "code",
      "execution_count": 44,
      "id": "7cb07d05",
      "metadata": {},
      "outputs": [
        {
          "data": {
            "text/html": [
              "<div>\n",
              "<style scoped>\n",
              "    .dataframe tbody tr th:only-of-type {\n",
              "        vertical-align: middle;\n",
              "    }\n",
              "\n",
              "    .dataframe tbody tr th {\n",
              "        vertical-align: top;\n",
              "    }\n",
              "\n",
              "    .dataframe thead th {\n",
              "        text-align: right;\n",
              "    }\n",
              "</style>\n",
              "<table border=\"1\" class=\"dataframe\">\n",
              "  <thead>\n",
              "    <tr style=\"text-align: right;\">\n",
              "      <th></th>\n",
              "      <th>COUNT(*)</th>\n",
              "    </tr>\n",
              "  </thead>\n",
              "  <tbody>\n",
              "    <tr>\n",
              "      <th>0</th>\n",
              "      <td>2</td>\n",
              "    </tr>\n",
              "  </tbody>\n",
              "</table>\n",
              "</div>"
            ],
            "text/plain": [
              "   COUNT(*)\n",
              "0         2"
            ]
          },
          "execution_count": 44,
          "metadata": {},
          "output_type": "execute_result"
        }
      ],
      "source": [
        "execute"
      ]
    },
    {
      "attachments": {},
      "cell_type": "markdown",
      "id": "42a9a9f3",
      "metadata": {},
      "source": [
        "#### Part 3:"
      ]
    },
    {
      "cell_type": "code",
      "execution_count": 45,
      "id": "CFPoYtV-_DpW",
      "metadata": {
        "colab": {
          "base_uri": "https://localhost:8080/",
          "height": 238
        },
        "id": "CFPoYtV-_DpW",
        "outputId": "0525528b-02e8-44c1-cee9-5205b4044ebc"
      },
      "outputs": [],
      "source": [
        "whereClause = \"\"\"SELECT students.name, students.major, students.gpa, courses.course_name, courses.grade\n",
        "FROM students\n",
        "LEFT JOIN courses ON students.student_id = courses.student_id\n",
        "WHERE courses.grade < 'C';\"\"\"\n",
        "cursor.execute(whereClause)\n",
        "execute = pd.read_sql_query(whereClause, connection)"
      ]
    },
    {
      "cell_type": "code",
      "execution_count": 46,
      "id": "74f97de4",
      "metadata": {},
      "outputs": [
        {
          "data": {
            "text/html": [
              "<div>\n",
              "<style scoped>\n",
              "    .dataframe tbody tr th:only-of-type {\n",
              "        vertical-align: middle;\n",
              "    }\n",
              "\n",
              "    .dataframe tbody tr th {\n",
              "        vertical-align: top;\n",
              "    }\n",
              "\n",
              "    .dataframe thead th {\n",
              "        text-align: right;\n",
              "    }\n",
              "</style>\n",
              "<table border=\"1\" class=\"dataframe\">\n",
              "  <thead>\n",
              "    <tr style=\"text-align: right;\">\n",
              "      <th></th>\n",
              "      <th>name</th>\n",
              "      <th>major</th>\n",
              "      <th>gpa</th>\n",
              "      <th>course_name</th>\n",
              "      <th>grade</th>\n",
              "    </tr>\n",
              "  </thead>\n",
              "  <tbody>\n",
              "    <tr>\n",
              "      <th>0</th>\n",
              "      <td>John</td>\n",
              "      <td>Computer Science</td>\n",
              "      <td>3.5</td>\n",
              "      <td>Python programming</td>\n",
              "      <td>A</td>\n",
              "    </tr>\n",
              "    <tr>\n",
              "      <th>1</th>\n",
              "      <td>Samantha</td>\n",
              "      <td>Physics</td>\n",
              "      <td>3.9</td>\n",
              "      <td>Python programming</td>\n",
              "      <td>A</td>\n",
              "    </tr>\n",
              "    <tr>\n",
              "      <th>2</th>\n",
              "      <td>Jane</td>\n",
              "      <td>Physics</td>\n",
              "      <td>3.8</td>\n",
              "      <td>Data Structures</td>\n",
              "      <td>B</td>\n",
              "    </tr>\n",
              "    <tr>\n",
              "      <th>3</th>\n",
              "      <td>Bob</td>\n",
              "      <td>Engineering</td>\n",
              "      <td>3.0</td>\n",
              "      <td>Database Systems</td>\n",
              "      <td>B</td>\n",
              "    </tr>\n",
              "    <tr>\n",
              "      <th>4</th>\n",
              "      <td>Jessica</td>\n",
              "      <td>Engineering</td>\n",
              "      <td>3.8</td>\n",
              "      <td>Database Systems</td>\n",
              "      <td>A</td>\n",
              "    </tr>\n",
              "    <tr>\n",
              "      <th>5</th>\n",
              "      <td>Jacob</td>\n",
              "      <td>Physics</td>\n",
              "      <td>3.4</td>\n",
              "      <td>Quantum Mechanics</td>\n",
              "      <td>A</td>\n",
              "    </tr>\n",
              "  </tbody>\n",
              "</table>\n",
              "</div>"
            ],
            "text/plain": [
              "       name             major  gpa         course_name grade\n",
              "0      John  Computer Science  3.5  Python programming     A\n",
              "1  Samantha           Physics  3.9  Python programming     A\n",
              "2      Jane           Physics  3.8     Data Structures     B\n",
              "3       Bob       Engineering  3.0    Database Systems     B\n",
              "4   Jessica       Engineering  3.8    Database Systems     A\n",
              "5     Jacob           Physics  3.4   Quantum Mechanics     A"
            ]
          },
          "execution_count": 46,
          "metadata": {},
          "output_type": "execute_result"
        }
      ],
      "source": [
        "execute"
      ]
    },
    {
      "attachments": {},
      "cell_type": "markdown",
      "id": "ab6f6c43",
      "metadata": {},
      "source": [
        "### Question 3:"
      ]
    },
    {
      "attachments": {},
      "cell_type": "markdown",
      "id": "8029c96b",
      "metadata": {},
      "source": [
        "#### Part 1:"
      ]
    },
    {
      "cell_type": "code",
      "execution_count": 47,
      "id": "roeqWdiqAbD1",
      "metadata": {
        "colab": {
          "base_uri": "https://localhost:8080/",
          "height": 81
        },
        "id": "roeqWdiqAbD1",
        "outputId": "81a099ab-f73a-4f43-89e0-4706d1d188bf"
      },
      "outputs": [],
      "source": [
        "average = \"\"\"SELECT AVG(gpa) FROM students;\"\"\"\n",
        "cursor.execute(average)\n",
        "execute = pd.read_sql_query(average, connection)"
      ]
    },
    {
      "cell_type": "code",
      "execution_count": 48,
      "id": "ccbdec99",
      "metadata": {},
      "outputs": [
        {
          "data": {
            "text/html": [
              "<div>\n",
              "<style scoped>\n",
              "    .dataframe tbody tr th:only-of-type {\n",
              "        vertical-align: middle;\n",
              "    }\n",
              "\n",
              "    .dataframe tbody tr th {\n",
              "        vertical-align: top;\n",
              "    }\n",
              "\n",
              "    .dataframe thead th {\n",
              "        text-align: right;\n",
              "    }\n",
              "</style>\n",
              "<table border=\"1\" class=\"dataframe\">\n",
              "  <thead>\n",
              "    <tr style=\"text-align: right;\">\n",
              "      <th></th>\n",
              "      <th>AVG(gpa)</th>\n",
              "    </tr>\n",
              "  </thead>\n",
              "  <tbody>\n",
              "    <tr>\n",
              "      <th>0</th>\n",
              "      <td>3.58</td>\n",
              "    </tr>\n",
              "  </tbody>\n",
              "</table>\n",
              "</div>"
            ],
            "text/plain": [
              "   AVG(gpa)\n",
              "0      3.58"
            ]
          },
          "execution_count": 48,
          "metadata": {},
          "output_type": "execute_result"
        }
      ],
      "source": [
        "execute"
      ]
    },
    {
      "attachments": {},
      "cell_type": "markdown",
      "id": "5f8205b7",
      "metadata": {},
      "source": [
        "#### Part 2:"
      ]
    },
    {
      "cell_type": "code",
      "execution_count": 49,
      "id": "boDb_nsjBQ9v",
      "metadata": {
        "colab": {
          "base_uri": "https://localhost:8080/",
          "height": 112
        },
        "id": "boDb_nsjBQ9v",
        "outputId": "514c7f02-5252-497a-d12c-07ebf45740c5"
      },
      "outputs": [],
      "source": [
        "selectMax = \"\"\"SELECT student_id, major, gpa FROM students\n",
        "WHERE gpa = (SELECT MAX(gpa) FROM students);\"\"\"\n",
        "cursor.execute(selectMax)\n",
        "execute = pd.read_sql_query(selectMax, connection)"
      ]
    },
    {
      "cell_type": "code",
      "execution_count": 50,
      "id": "2883f9a2",
      "metadata": {},
      "outputs": [
        {
          "data": {
            "text/html": [
              "<div>\n",
              "<style scoped>\n",
              "    .dataframe tbody tr th:only-of-type {\n",
              "        vertical-align: middle;\n",
              "    }\n",
              "\n",
              "    .dataframe tbody tr th {\n",
              "        vertical-align: top;\n",
              "    }\n",
              "\n",
              "    .dataframe thead th {\n",
              "        text-align: right;\n",
              "    }\n",
              "</style>\n",
              "<table border=\"1\" class=\"dataframe\">\n",
              "  <thead>\n",
              "    <tr style=\"text-align: right;\">\n",
              "      <th></th>\n",
              "      <th>student_id</th>\n",
              "      <th>major</th>\n",
              "      <th>gpa</th>\n",
              "    </tr>\n",
              "  </thead>\n",
              "  <tbody>\n",
              "    <tr>\n",
              "      <th>0</th>\n",
              "      <td>4</td>\n",
              "      <td>Physics</td>\n",
              "      <td>3.9</td>\n",
              "    </tr>\n",
              "    <tr>\n",
              "      <th>1</th>\n",
              "      <td>10</td>\n",
              "      <td>Physics</td>\n",
              "      <td>3.9</td>\n",
              "    </tr>\n",
              "  </tbody>\n",
              "</table>\n",
              "</div>"
            ],
            "text/plain": [
              "   student_id    major  gpa\n",
              "0           4  Physics  3.9\n",
              "1          10  Physics  3.9"
            ]
          },
          "execution_count": 50,
          "metadata": {},
          "output_type": "execute_result"
        }
      ],
      "source": [
        "execute"
      ]
    },
    {
      "attachments": {},
      "cell_type": "markdown",
      "id": "41ad5f48",
      "metadata": {},
      "source": [
        "#### Part 3:"
      ]
    },
    {
      "cell_type": "code",
      "execution_count": 51,
      "id": "NpjafD48B_Ym",
      "metadata": {
        "colab": {
          "base_uri": "https://localhost:8080/",
          "height": 81
        },
        "id": "NpjafD48B_Ym",
        "outputId": "04d162a1-1289-45a4-8dca-5298eb1fe381"
      },
      "outputs": [],
      "source": [
        "selectMin = \"\"\"SELECT student_id, major, gpa FROM students\n",
        "WHERE gpa = (SELECT MIN(gpa) FROM students);\"\"\"\n",
        "cursor.execute(selectMin)\n",
        "execute = pd.read_sql_query(selectMin, connection)"
      ]
    },
    {
      "cell_type": "code",
      "execution_count": 52,
      "id": "4feef8d0",
      "metadata": {},
      "outputs": [
        {
          "data": {
            "text/html": [
              "<div>\n",
              "<style scoped>\n",
              "    .dataframe tbody tr th:only-of-type {\n",
              "        vertical-align: middle;\n",
              "    }\n",
              "\n",
              "    .dataframe tbody tr th {\n",
              "        vertical-align: top;\n",
              "    }\n",
              "\n",
              "    .dataframe thead th {\n",
              "        text-align: right;\n",
              "    }\n",
              "</style>\n",
              "<table border=\"1\" class=\"dataframe\">\n",
              "  <thead>\n",
              "    <tr style=\"text-align: right;\">\n",
              "      <th></th>\n",
              "      <th>student_id</th>\n",
              "      <th>major</th>\n",
              "      <th>gpa</th>\n",
              "    </tr>\n",
              "  </thead>\n",
              "  <tbody>\n",
              "    <tr>\n",
              "      <th>0</th>\n",
              "      <td>3</td>\n",
              "      <td>Engineering</td>\n",
              "      <td>3.0</td>\n",
              "    </tr>\n",
              "  </tbody>\n",
              "</table>\n",
              "</div>"
            ],
            "text/plain": [
              "   student_id        major  gpa\n",
              "0           3  Engineering  3.0"
            ]
          },
          "execution_count": 52,
          "metadata": {},
          "output_type": "execute_result"
        }
      ],
      "source": [
        "execute"
      ]
    },
    {
      "attachments": {},
      "cell_type": "markdown",
      "id": "a0f9661d",
      "metadata": {},
      "source": [
        "#### Part 4:"
      ]
    },
    {
      "cell_type": "code",
      "execution_count": 53,
      "id": "Yx0FC3ufCepN",
      "metadata": {
        "colab": {
          "base_uri": "https://localhost:8080/",
          "height": 206
        },
        "id": "Yx0FC3ufCepN",
        "outputId": "72b99c38-2dd6-4aa2-c366-45e491b87c5d"
      },
      "outputs": [],
      "source": [
        "andOR = \"\"\"SELECT student_id, major, gpa\n",
        "FROM students\n",
        "WHERE (major = 'Physics' OR major = 'Engineering') AND gpa > 3.6;\"\"\"\n",
        "cursor.execute(andOR)\n",
        "execute = pd.read_sql_query(andOR, connection)"
      ]
    },
    {
      "cell_type": "code",
      "execution_count": 55,
      "id": "4c7861a9",
      "metadata": {},
      "outputs": [
        {
          "data": {
            "text/html": [
              "<div>\n",
              "<style scoped>\n",
              "    .dataframe tbody tr th:only-of-type {\n",
              "        vertical-align: middle;\n",
              "    }\n",
              "\n",
              "    .dataframe tbody tr th {\n",
              "        vertical-align: top;\n",
              "    }\n",
              "\n",
              "    .dataframe thead th {\n",
              "        text-align: right;\n",
              "    }\n",
              "</style>\n",
              "<table border=\"1\" class=\"dataframe\">\n",
              "  <thead>\n",
              "    <tr style=\"text-align: right;\">\n",
              "      <th></th>\n",
              "      <th>student_id</th>\n",
              "      <th>major</th>\n",
              "      <th>gpa</th>\n",
              "    </tr>\n",
              "  </thead>\n",
              "  <tbody>\n",
              "    <tr>\n",
              "      <th>0</th>\n",
              "      <td>2</td>\n",
              "      <td>Physics</td>\n",
              "      <td>3.8</td>\n",
              "    </tr>\n",
              "    <tr>\n",
              "      <th>1</th>\n",
              "      <td>4</td>\n",
              "      <td>Physics</td>\n",
              "      <td>3.9</td>\n",
              "    </tr>\n",
              "    <tr>\n",
              "      <th>2</th>\n",
              "      <td>5</td>\n",
              "      <td>Engineering</td>\n",
              "      <td>3.7</td>\n",
              "    </tr>\n",
              "    <tr>\n",
              "      <th>3</th>\n",
              "      <td>8</td>\n",
              "      <td>Engineering</td>\n",
              "      <td>3.8</td>\n",
              "    </tr>\n",
              "    <tr>\n",
              "      <th>4</th>\n",
              "      <td>10</td>\n",
              "      <td>Physics</td>\n",
              "      <td>3.9</td>\n",
              "    </tr>\n",
              "  </tbody>\n",
              "</table>\n",
              "</div>"
            ],
            "text/plain": [
              "   student_id        major  gpa\n",
              "0           2      Physics  3.8\n",
              "1           4      Physics  3.9\n",
              "2           5  Engineering  3.7\n",
              "3           8  Engineering  3.8\n",
              "4          10      Physics  3.9"
            ]
          },
          "execution_count": 55,
          "metadata": {},
          "output_type": "execute_result"
        }
      ],
      "source": [
        "execute"
      ]
    },
    {
      "attachments": {},
      "cell_type": "markdown",
      "id": "740c7272",
      "metadata": {},
      "source": [
        "#### Part 5"
      ]
    },
    {
      "cell_type": "code",
      "execution_count": 56,
      "id": "d7WpJnHRDjAK",
      "metadata": {
        "colab": {
          "base_uri": "https://localhost:8080/",
          "height": 143
        },
        "id": "d7WpJnHRDjAK",
        "outputId": "7ba4aca0-6777-4d49-baf7-d5b9af8fa149"
      },
      "outputs": [],
      "source": [
        "groupBy = \"\"\"SELECT major, AVG(gpa) as average_of_gpa FROM students\n",
        "GROUP BY major;\"\"\"\n",
        "cursor.execute(groupBy)\n",
        "execute = pd.read_sql_query(groupBy, connection)"
      ]
    },
    {
      "cell_type": "code",
      "execution_count": 57,
      "id": "d0448733",
      "metadata": {},
      "outputs": [
        {
          "data": {
            "text/html": [
              "<div>\n",
              "<style scoped>\n",
              "    .dataframe tbody tr th:only-of-type {\n",
              "        vertical-align: middle;\n",
              "    }\n",
              "\n",
              "    .dataframe tbody tr th {\n",
              "        vertical-align: top;\n",
              "    }\n",
              "\n",
              "    .dataframe thead th {\n",
              "        text-align: right;\n",
              "    }\n",
              "</style>\n",
              "<table border=\"1\" class=\"dataframe\">\n",
              "  <thead>\n",
              "    <tr style=\"text-align: right;\">\n",
              "      <th></th>\n",
              "      <th>major</th>\n",
              "      <th>average_of_gpa</th>\n",
              "    </tr>\n",
              "  </thead>\n",
              "  <tbody>\n",
              "    <tr>\n",
              "      <th>0</th>\n",
              "      <td>Computer Science</td>\n",
              "      <td>3.433333</td>\n",
              "    </tr>\n",
              "    <tr>\n",
              "      <th>1</th>\n",
              "      <td>Engineering</td>\n",
              "      <td>3.500000</td>\n",
              "    </tr>\n",
              "    <tr>\n",
              "      <th>2</th>\n",
              "      <td>Physics</td>\n",
              "      <td>3.750000</td>\n",
              "    </tr>\n",
              "  </tbody>\n",
              "</table>\n",
              "</div>"
            ],
            "text/plain": [
              "              major  average_of_gpa\n",
              "0  Computer Science        3.433333\n",
              "1       Engineering        3.500000\n",
              "2           Physics        3.750000"
            ]
          },
          "execution_count": 57,
          "metadata": {},
          "output_type": "execute_result"
        }
      ],
      "source": [
        "execute"
      ]
    },
    {
      "attachments": {},
      "cell_type": "markdown",
      "id": "af3358a4",
      "metadata": {},
      "source": [
        "#### Part 6:"
      ]
    },
    {
      "cell_type": "code",
      "execution_count": 58,
      "id": "UCjxYuQqEVsV",
      "metadata": {
        "colab": {
          "base_uri": "https://localhost:8080/",
          "height": 238
        },
        "id": "UCjxYuQqEVsV",
        "outputId": "5f60d582-c76c-485b-8e3c-b42a262a1fb1"
      },
      "outputs": [],
      "source": [
        "partition = \"\"\" SELECT major, student_id, gpa FROM (\n",
        "  SELECT major, student_id, gpa,\n",
        "         ROW_NUMBER() OVER (PARTITION BY major ORDER BY gpa DESC) AS rank_students\n",
        "  FROM students\n",
        ") WHERE rank_students <= 2\n",
        "ORDER BY major, gpa DESC;\"\"\"\n",
        "cursor.execute(partition)\n",
        "execute = pd.read_sql_query(partition, connection)"
      ]
    },
    {
      "cell_type": "code",
      "execution_count": 59,
      "id": "aa1511cc",
      "metadata": {},
      "outputs": [
        {
          "data": {
            "text/html": [
              "<div>\n",
              "<style scoped>\n",
              "    .dataframe tbody tr th:only-of-type {\n",
              "        vertical-align: middle;\n",
              "    }\n",
              "\n",
              "    .dataframe tbody tr th {\n",
              "        vertical-align: top;\n",
              "    }\n",
              "\n",
              "    .dataframe thead th {\n",
              "        text-align: right;\n",
              "    }\n",
              "</style>\n",
              "<table border=\"1\" class=\"dataframe\">\n",
              "  <thead>\n",
              "    <tr style=\"text-align: right;\">\n",
              "      <th></th>\n",
              "      <th>major</th>\n",
              "      <th>student_id</th>\n",
              "      <th>gpa</th>\n",
              "    </tr>\n",
              "  </thead>\n",
              "  <tbody>\n",
              "    <tr>\n",
              "      <th>0</th>\n",
              "      <td>Computer Science</td>\n",
              "      <td>6</td>\n",
              "      <td>3.6</td>\n",
              "    </tr>\n",
              "    <tr>\n",
              "      <th>1</th>\n",
              "      <td>Computer Science</td>\n",
              "      <td>1</td>\n",
              "      <td>3.5</td>\n",
              "    </tr>\n",
              "    <tr>\n",
              "      <th>2</th>\n",
              "      <td>Engineering</td>\n",
              "      <td>8</td>\n",
              "      <td>3.8</td>\n",
              "    </tr>\n",
              "    <tr>\n",
              "      <th>3</th>\n",
              "      <td>Engineering</td>\n",
              "      <td>5</td>\n",
              "      <td>3.7</td>\n",
              "    </tr>\n",
              "    <tr>\n",
              "      <th>4</th>\n",
              "      <td>Physics</td>\n",
              "      <td>4</td>\n",
              "      <td>3.9</td>\n",
              "    </tr>\n",
              "    <tr>\n",
              "      <th>5</th>\n",
              "      <td>Physics</td>\n",
              "      <td>10</td>\n",
              "      <td>3.9</td>\n",
              "    </tr>\n",
              "  </tbody>\n",
              "</table>\n",
              "</div>"
            ],
            "text/plain": [
              "              major  student_id  gpa\n",
              "0  Computer Science           6  3.6\n",
              "1  Computer Science           1  3.5\n",
              "2       Engineering           8  3.8\n",
              "3       Engineering           5  3.7\n",
              "4           Physics           4  3.9\n",
              "5           Physics          10  3.9"
            ]
          },
          "execution_count": 59,
          "metadata": {},
          "output_type": "execute_result"
        }
      ],
      "source": [
        "execute"
      ]
    }
  ],
  "metadata": {
    "colab": {
      "provenance": []
    },
    "kernelspec": {
      "display_name": "base",
      "language": "python",
      "name": "python3"
    },
    "language_info": {
      "codemirror_mode": {
        "name": "ipython",
        "version": 3
      },
      "file_extension": ".py",
      "mimetype": "text/x-python",
      "name": "python",
      "nbconvert_exporter": "python",
      "pygments_lexer": "ipython3",
      "version": "3.9.7 (default, Sep 16 2021, 16:59:28) [MSC v.1916 64 bit (AMD64)]"
    },
    "vscode": {
      "interpreter": {
        "hash": "a90aeebcf29d64a654773811cc170cb25061cb2498f10ac689db374c7bf325de"
      }
    }
  },
  "nbformat": 4,
  "nbformat_minor": 5
}
